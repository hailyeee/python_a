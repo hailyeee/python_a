{
  "nbformat": 4,
  "nbformat_minor": 0,
  "metadata": {
    "colab": {
      "provenance": [],
      "authorship_tag": "ABX9TyOf5hFr5xICmGx3Ly0KcBtK",
      "include_colab_link": true
    },
    "kernelspec": {
      "name": "python3",
      "display_name": "Python 3"
    },
    "language_info": {
      "name": "python"
    }
  },
  "cells": [
    {
      "cell_type": "markdown",
      "metadata": {
        "id": "view-in-github",
        "colab_type": "text"
      },
      "source": [
        "<a href=\"https://colab.research.google.com/github/hailyeee/python_a/blob/main/test1.ipynb\" target=\"_parent\"><img src=\"https://colab.research.google.com/assets/colab-badge.svg\" alt=\"Open In Colab\"/></a>"
      ]
    },
    {
      "cell_type": "code",
      "source": [
        "a = input(\"좋아하는 과일이 무엇인가요?\")\n",
        "if a == \"사과\":\n",
        "  print(\"맛있죠!\")\n",
        "else:\n",
        "  print(\"그것도 맛있겠네요\")"
      ],
      "metadata": {
        "colab": {
          "base_uri": "https://localhost:8080/"
        },
        "id": "8N06dwvwjRvz",
        "outputId": "cfdc22f8-410c-4bb7-b3a0-bec3b4181d04"
      },
      "execution_count": 1,
      "outputs": [
        {
          "output_type": "stream",
          "name": "stdout",
          "text": [
            "좋아하는 과일이 무엇인가요?포도\n",
            "dd\n"
          ]
        }
      ]
    },
    {
      "cell_type": "code",
      "source": [
        "a = input(\"글자 또는 문장을 입력해주세요\")\n",
        "if len(a) > 9:\n",
        "    print(\"긴 문장이네요!\")\n",
        "else:\n",
        "  print(\"짧은문장이에요\")\n"
      ],
      "metadata": {
        "colab": {
          "base_uri": "https://localhost:8080/"
        },
        "id": "WbCC-9nIkB7e",
        "outputId": "c2c4a3ec-c1d8-4d47-d4bf-edd96c77a5c2"
      },
      "execution_count": 7,
      "outputs": [
        {
          "output_type": "stream",
          "name": "stdout",
          "text": [
            "글자 또는 문장을 입력해주세요1\n",
            "짧은문장이에요\n"
          ]
        }
      ]
    },
    {
      "cell_type": "code",
      "source": [
        "a = input(\"이름을 입력해주세요\")\n",
        "print(a.upper())"
      ],
      "metadata": {
        "colab": {
          "base_uri": "https://localhost:8080/"
        },
        "id": "Cq79UqBPno2J",
        "outputId": "8069ddfe-a35e-47a4-d51c-7157f813b61d"
      },
      "execution_count": 10,
      "outputs": [
        {
          "output_type": "stream",
          "name": "stdout",
          "text": [
            "이름을 입력해주세요kim\n",
            "KIM\n"
          ]
        }
      ]
    },
    {
      "cell_type": "code",
      "source": [
        "a = int(input(\"숫자를 입력하세요\"))\n",
        "if a%2 == 1:\n",
        "  print(\"홀수\")\n",
        "else:\n",
        "  print(\"짝수\")"
      ],
      "metadata": {
        "colab": {
          "base_uri": "https://localhost:8080/"
        },
        "id": "5RWc4M8MqIcw",
        "outputId": "5009172b-7684-4cdd-ba81-62ac3f79bb5f"
      },
      "execution_count": 19,
      "outputs": [
        {
          "output_type": "stream",
          "name": "stdout",
          "text": [
            "숫자를 입력하세요200\n",
            "짝수\n"
          ]
        }
      ]
    },
    {
      "cell_type": "code",
      "source": [
        "a = input(\"계정을 입력하세요\")\n",
        "list = a.split('@')\n",
        "print(\"아이디:\",list[0])\n",
        "print(\"도메인:\",list[1])"
      ],
      "metadata": {
        "colab": {
          "base_uri": "https://localhost:8080/"
        },
        "id": "P62QV4s1siL5",
        "outputId": "9ce9b627-24d6-42bc-bc1b-4d98fa0ff50d"
      },
      "execution_count": 37,
      "outputs": [
        {
          "output_type": "stream",
          "name": "stdout",
          "text": [
            "계정을 입력하세요ffffff\n",
            "dkdkd:{list[0]}\n",
            "dkdkd:ffffff\n"
          ]
        }
      ]
    },
    {
      "cell_type": "code",
      "source": [
        ""
      ],
      "metadata": {
        "id": "fCy0vR4Rv1K1"
      },
      "execution_count": null,
      "outputs": []
    }
  ]
}